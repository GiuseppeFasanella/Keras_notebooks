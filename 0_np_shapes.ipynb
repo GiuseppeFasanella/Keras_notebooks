{
 "cells": [
  {
   "cell_type": "code",
   "execution_count": 2,
   "metadata": {},
   "outputs": [],
   "source": [
    "import numpy as np"
   ]
  },
  {
   "cell_type": "code",
   "execution_count": 13,
   "metadata": {},
   "outputs": [
    {
     "name": "stdout",
     "output_type": "stream",
     "text": [
      "[1, 2, 3]\n"
     ]
    }
   ],
   "source": [
    "## Start with a list (that has no shape)\n",
    "my_list = [1,2,3]\n",
    "print(my_list)\n",
    "## Nota che la lista ha le sue virgole"
   ]
  },
  {
   "cell_type": "code",
   "execution_count": 14,
   "metadata": {},
   "outputs": [],
   "source": [
    "## Convert the list to np.array\n",
    "my_array = np.array(my_list)"
   ]
  },
  {
   "cell_type": "code",
   "execution_count": null,
   "metadata": {},
   "outputs": [],
   "source": [
    "## General rule of reshape:\n",
    "#0 means do not change this size\n",
    "#-1 means infert it"
   ]
  },
  {
   "cell_type": "code",
   "execution_count": 6,
   "metadata": {},
   "outputs": [
    {
     "name": "stdout",
     "output_type": "stream",
     "text": [
      "[1 2 3] (3,)\n"
     ]
    }
   ],
   "source": [
    "print(my_array, my_array.shape)"
   ]
  },
  {
   "cell_type": "code",
   "execution_count": 11,
   "metadata": {},
   "outputs": [
    {
     "name": "stdout",
     "output_type": "stream",
     "text": [
      "[[1 2 3]] (1, 3)\n"
     ]
    }
   ],
   "source": [
    "my_array = my_array.reshape(-1,3)\n",
    "print(my_array, my_array.shape)"
   ]
  },
  {
   "cell_type": "code",
   "execution_count": 15,
   "metadata": {},
   "outputs": [
    {
     "name": "stdout",
     "output_type": "stream",
     "text": [
      "[1 2 3] (3,)\n",
      "[1 2 3] (3,)\n"
     ]
    }
   ],
   "source": [
    "my_array = my_array.reshape(3,)\n",
    "print(my_array, my_array.shape)\n",
    "\n",
    "my_array = my_array.reshape(3)\n",
    "print(my_array, my_array.shape)\n",
    "\n",
    "## (,3) NON è una valid shape"
   ]
  },
  {
   "cell_type": "code",
   "execution_count": 19,
   "metadata": {},
   "outputs": [
    {
     "name": "stdout",
     "output_type": "stream",
     "text": [
      "[[1 2 3]\n",
      " [4 5 6]] (2, 3)\n",
      "***\n",
      "[[[1 2 3]\n",
      "  [3 4 5]]\n",
      "\n",
      " [[5 6 7]\n",
      "  [7 8 9]]] (2, 2, 3)\n"
     ]
    }
   ],
   "source": [
    "## Ok, quindi deduco che la logica della shape è \"quanti elementi ci sono\".\n",
    "## Non esiste il concetto di vettore riga, colonna\n",
    "## Esempio shape= (1,3) --> c'è un elemento che contiene 3 elementi: [[a b c]]\n",
    "\n",
    "## Verifico la th:\n",
    "test_list=[[1,2,3],[4,5,6]]\n",
    "my_test_array = np.array(test_list)\n",
    "print(my_test_array, my_test_array.shape) ## Mi aspetto (2,3) :)\n",
    "\n",
    "print(\"***\")\n",
    "test_list=[ [[1,2,3],[3,4,5]] , [[5,6,7],[7,8,9]] ]\n",
    "my_test_array = np.array(test_list)\n",
    "print(my_test_array, my_test_array.shape) \n",
    "## Mi aspetto (2,2,3) :)\n",
    "## Perché ho 2 elementi, ognuno dei quali contiene 2 elementi, ognuno dei quali contiene 3 elementi"
   ]
  },
  {
   "cell_type": "code",
   "execution_count": null,
   "metadata": {},
   "outputs": [],
   "source": [
    "## Ganglioneuralgia sfenopalatina --> emicrania da freddo (quando mangi un gelato)"
   ]
  }
 ],
 "metadata": {
  "kernelspec": {
   "display_name": "Python 3",
   "language": "python",
   "name": "python3"
  },
  "language_info": {
   "codemirror_mode": {
    "name": "ipython",
    "version": 3
   },
   "file_extension": ".py",
   "mimetype": "text/x-python",
   "name": "python",
   "nbconvert_exporter": "python",
   "pygments_lexer": "ipython3",
   "version": "3.7.6"
  }
 },
 "nbformat": 4,
 "nbformat_minor": 4
}
