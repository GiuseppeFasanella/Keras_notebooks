{
 "cells": [
  {
   "cell_type": "code",
   "execution_count": 13,
   "metadata": {},
   "outputs": [
    {
     "name": "stdout",
     "output_type": "stream",
     "text": [
      "[[1 1]\n",
      " [1 2]\n",
      " [1 3]\n",
      " [4 1]\n",
      " [4 4]\n",
      " [4 5]]\n",
      "****\n",
      "[[0]\n",
      " [0]\n",
      " [0]\n",
      " [1]\n",
      " [1]\n",
      " [1]]\n",
      "Epoch 1/2\n",
      "1/1 [==============================] - 0s 642us/step - loss: 0.1318 - accuracy: 0.5000\n",
      "Epoch 2/2\n",
      "1/1 [==============================] - 0s 661us/step - loss: 0.1313 - accuracy: 0.5000\n"
     ]
    },
    {
     "data": {
      "text/plain": [
       "array([[0.73536664],\n",
       "       [0.89657104],\n",
       "       [0.9643382 ],\n",
       "       [0.6626425 ],\n",
       "       [0.9835054 ],\n",
       "       [0.9946525 ]], dtype=float32)"
      ]
     },
     "execution_count": 13,
     "metadata": {},
     "output_type": "execute_result"
    }
   ],
   "source": [
    "import numpy as np\n",
    "### Imports (possibility number 1)\n",
    "import tensorflow as tf\n",
    "from tensorflow.keras.models import Sequential\n",
    "from tensorflow.keras.layers import Dense\n",
    "from tensorflow.keras.regularizers import L1L2\n",
    "\"\"\"\n",
    "## Imports (possibility number 2. They are equivalent)\n",
    "from keras.models import Sequential\n",
    "from keras.layers import Dense\n",
    "from keras.regularizers import L1L2\n",
    "\"\"\"\n",
    "\n",
    "## I prefer, Imports #1 for didactical purposes as so you clearly see that\n",
    "## keras is a front-end for tensorflow (which is the back-end)\n",
    "\n",
    "\"\"\"\n",
    "Prepare you data, such as:\n",
    "\"\"\"\n",
    "x_train = np.array([ [1,1],[1,2],[1,3], [4,1],[4,4],[4,5] ])  # should be a numpy array\n",
    "y_train = np.array([ [0],[0],[0],[1],[1],[1] ])  # should be a numpy array\n",
    "\n",
    "print(x_train)\n",
    "print(\"****\")\n",
    "print(y_train)\n",
    "\n",
    "\n",
    "\"\"\"\n",
    "Set up the logistic regression model\n",
    "\"\"\"\n",
    "model = Sequential()\n",
    "model.add(Dense(1,  # output dim is 1, probability of a certain_class\n",
    "                activation='sigmoid',\n",
    "                kernel_regularizer=L1L2(l1=0.0, l2=0.1),\n",
    "                input_dim=len(x_train[0]))) #input_dim = number of input features you have\n",
    "model.compile(optimizer='sgd',\n",
    "              loss='categorical_crossentropy',\n",
    "              metrics=['accuracy'])\n",
    "\n",
    "\"\"\"\n",
    "Fit/Predict\n",
    "\"\"\"\n",
    "model.fit(x_train, y_train, epochs=2)\n",
    "#model.fit(x_train, y_train, epochs=2, validation_data=(x_val, y_val))\n",
    "model.predict(x_train)\n",
    "\n",
    "          \n"
   ]
  },
  {
   "cell_type": "code",
   "execution_count": null,
   "metadata": {},
   "outputs": [],
   "source": []
  }
 ],
 "metadata": {
  "kernelspec": {
   "display_name": "Python 3",
   "language": "python",
   "name": "python3"
  },
  "language_info": {
   "codemirror_mode": {
    "name": "ipython",
    "version": 3
   },
   "file_extension": ".py",
   "mimetype": "text/x-python",
   "name": "python",
   "nbconvert_exporter": "python",
   "pygments_lexer": "ipython3",
   "version": "3.7.6"
  }
 },
 "nbformat": 4,
 "nbformat_minor": 4
}
